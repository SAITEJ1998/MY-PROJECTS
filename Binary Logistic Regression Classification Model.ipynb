{
 "cells": [
  {
   "cell_type": "code",
   "execution_count": 60,
   "metadata": {},
   "outputs": [],
   "source": [
    "import pandas as pd\n",
    "import numpy as np\n",
    "import matplotlib.pyplot as plt\n",
    "%matplotlib inline"
   ]
  },
  {
   "cell_type": "code",
   "execution_count": 61,
   "metadata": {},
   "outputs": [],
   "source": [
    "# import io\n",
    "# %cd '/Users/rajeshprabhakar/Desktop/Hackathon/HR Analytics'"
   ]
  },
  {
   "cell_type": "code",
   "execution_count": 62,
   "metadata": {},
   "outputs": [],
   "source": [
    "hrtrain=pd.read_csv('train_LZdllcl.csv')"
   ]
  },
  {
   "cell_type": "code",
   "execution_count": 63,
   "metadata": {},
   "outputs": [],
   "source": [
    "hrtest=pd.read_csv('test_2umaH9m.csv')"
   ]
  },
  {
   "cell_type": "code",
   "execution_count": 64,
   "metadata": {},
   "outputs": [
    {
     "data": {
      "text/plain": [
       "previous_year_rating    4124\n",
       "education               2409\n",
       "is_promoted                0\n",
       "avg_training_score         0\n",
       "awards_won?                0\n",
       "KPIs_met >80%              0\n",
       "length_of_service          0\n",
       "age                        0\n",
       "no_of_trainings            0\n",
       "recruitment_channel        0\n",
       "gender                     0\n",
       "region                     0\n",
       "department                 0\n",
       "employee_id                0\n",
       "dtype: int64"
      ]
     },
     "execution_count": 64,
     "metadata": {},
     "output_type": "execute_result"
    }
   ],
   "source": [
    "hrtrain.isnull().sum().sort_values(ascending=False)"
   ]
  },
  {
   "cell_type": "code",
   "execution_count": 65,
   "metadata": {},
   "outputs": [
    {
     "data": {
      "text/plain": [
       "previous_year_rating    1812\n",
       "education               1034\n",
       "avg_training_score         0\n",
       "awards_won?                0\n",
       "KPIs_met >80%              0\n",
       "length_of_service          0\n",
       "age                        0\n",
       "no_of_trainings            0\n",
       "recruitment_channel        0\n",
       "gender                     0\n",
       "region                     0\n",
       "department                 0\n",
       "employee_id                0\n",
       "dtype: int64"
      ]
     },
     "execution_count": 65,
     "metadata": {},
     "output_type": "execute_result"
    }
   ],
   "source": [
    "hrtest.isnull().sum().sort_values(ascending=False)"
   ]
  },
  {
   "cell_type": "code",
   "execution_count": 66,
   "metadata": {},
   "outputs": [
    {
     "data": {
      "text/plain": [
       "0    50140\n",
       "1     4668\n",
       "Name: is_promoted, dtype: int64"
      ]
     },
     "execution_count": 66,
     "metadata": {},
     "output_type": "execute_result"
    }
   ],
   "source": [
    "# Dependent Variable - is_promoted (0/1)(No/Yes)\n",
    "hrtrain.is_promoted.value_counts()"
   ]
  },
  {
   "cell_type": "code",
   "execution_count": 67,
   "metadata": {},
   "outputs": [
    {
     "data": {
      "text/html": [
       "<div>\n",
       "<style scoped>\n",
       "    .dataframe tbody tr th:only-of-type {\n",
       "        vertical-align: middle;\n",
       "    }\n",
       "\n",
       "    .dataframe tbody tr th {\n",
       "        vertical-align: top;\n",
       "    }\n",
       "\n",
       "    .dataframe thead th {\n",
       "        text-align: right;\n",
       "    }\n",
       "</style>\n",
       "<table border=\"1\" class=\"dataframe\">\n",
       "  <thead>\n",
       "    <tr style=\"text-align: right;\">\n",
       "      <th>gender</th>\n",
       "      <th>f</th>\n",
       "      <th>m</th>\n",
       "    </tr>\n",
       "    <tr>\n",
       "      <th>is_promoted</th>\n",
       "      <th></th>\n",
       "      <th></th>\n",
       "    </tr>\n",
       "  </thead>\n",
       "  <tbody>\n",
       "    <tr>\n",
       "      <th>0</th>\n",
       "      <td>14845</td>\n",
       "      <td>35295</td>\n",
       "    </tr>\n",
       "    <tr>\n",
       "      <th>1</th>\n",
       "      <td>1467</td>\n",
       "      <td>3201</td>\n",
       "    </tr>\n",
       "  </tbody>\n",
       "</table>\n",
       "</div>"
      ],
      "text/plain": [
       "gender           f      m\n",
       "is_promoted              \n",
       "0            14845  35295\n",
       "1             1467   3201"
      ]
     },
     "execution_count": 67,
     "metadata": {},
     "output_type": "execute_result"
    }
   ],
   "source": [
    "# How many Male/Female Promoted?\n",
    "pd.crosstab(hrtrain.is_promoted,hrtrain.gender)"
   ]
  },
  {
   "cell_type": "code",
   "execution_count": 68,
   "metadata": {},
   "outputs": [],
   "source": [
    "# Hypothesis Testing\n",
    "# Type 1 Error - Finding Criminal Not Guilty - Accepting a False\n",
    "# Hypothesis. Patient has No Covid but RTPCR Test gave Positive\n",
    "# Type 2 Error - Hanging an innocent Man - Rejecting a True \n",
    "# Hypothesis. Patient has Covid but RTPCR Test gave Negative"
   ]
  },
  {
   "cell_type": "code",
   "execution_count": 69,
   "metadata": {},
   "outputs": [
    {
     "data": {
      "text/plain": [
       "3.0    18618\n",
       "5.0    11741\n",
       "4.0     9877\n",
       "1.0     6223\n",
       "2.0     4225\n",
       "NaN     4124\n",
       "Name: previous_year_rating, dtype: int64"
      ]
     },
     "execution_count": 69,
     "metadata": {},
     "output_type": "execute_result"
    }
   ],
   "source": [
    "hrtrain.previous_year_rating.value_counts(dropna=False)"
   ]
  },
  {
   "cell_type": "code",
   "execution_count": 70,
   "metadata": {},
   "outputs": [],
   "source": [
    "hrtrain.previous_year_rating=hrtrain.previous_year_rating.fillna(3.0)"
   ]
  },
  {
   "cell_type": "code",
   "execution_count": 71,
   "metadata": {},
   "outputs": [
    {
     "data": {
      "text/plain": [
       "3.0    7921\n",
       "5.0    5097\n",
       "4.0    4249\n",
       "1.0    2680\n",
       "NaN    1812\n",
       "2.0    1731\n",
       "Name: previous_year_rating, dtype: int64"
      ]
     },
     "execution_count": 71,
     "metadata": {},
     "output_type": "execute_result"
    }
   ],
   "source": [
    "hrtest.previous_year_rating.value_counts(dropna=False)"
   ]
  },
  {
   "cell_type": "code",
   "execution_count": 72,
   "metadata": {},
   "outputs": [],
   "source": [
    "hrtest.previous_year_rating=hrtest.previous_year_rating.fillna(3.0)"
   ]
  },
  {
   "cell_type": "code",
   "execution_count": 73,
   "metadata": {},
   "outputs": [
    {
     "data": {
      "text/plain": [
       "Bachelor's          36669\n",
       "Master's & above    14925\n",
       "NaN                  2409\n",
       "Below Secondary       805\n",
       "Name: education, dtype: int64"
      ]
     },
     "execution_count": 73,
     "metadata": {},
     "output_type": "execute_result"
    }
   ],
   "source": [
    "hrtrain.education.value_counts(dropna=False)"
   ]
  },
  {
   "cell_type": "code",
   "execution_count": 74,
   "metadata": {},
   "outputs": [],
   "source": [
    "hrtrain.education=hrtrain.education.fillna(\"Bachelor's\")"
   ]
  },
  {
   "cell_type": "code",
   "execution_count": 75,
   "metadata": {},
   "outputs": [],
   "source": [
    "hrtest.education=hrtest.education.fillna(\"Bachelor's\")"
   ]
  },
  {
   "cell_type": "code",
   "execution_count": 76,
   "metadata": {},
   "outputs": [
    {
     "data": {
      "text/plain": [
       "Index(['employee_id', 'department', 'region', 'education', 'gender',\n",
       "       'recruitment_channel', 'no_of_trainings', 'age', 'previous_year_rating',\n",
       "       'length_of_service', 'KPIs_met >80%', 'awards_won?',\n",
       "       'avg_training_score', 'is_promoted'],\n",
       "      dtype='object')"
      ]
     },
     "execution_count": 76,
     "metadata": {},
     "output_type": "execute_result"
    }
   ],
   "source": [
    "hrtrain.columns"
   ]
  },
  {
   "cell_type": "code",
   "execution_count": 77,
   "metadata": {},
   "outputs": [
    {
     "data": {
      "text/plain": [
       "is_promoted\n",
       "0    62.647686\n",
       "1    71.325193\n",
       "Name: avg_training_score, dtype: float64"
      ]
     },
     "execution_count": 77,
     "metadata": {},
     "output_type": "execute_result"
    }
   ],
   "source": [
    "# Test Null Average avg_training_score of is_promoted(0/1) Equal\n",
    "# groupby(), Null & Alt, Split Dataframe, Conduct test & Interpret\n",
    "hrtrain.avg_training_score.groupby(hrtrain.is_promoted).mean()"
   ]
  },
  {
   "cell_type": "code",
   "execution_count": 78,
   "metadata": {},
   "outputs": [
    {
     "data": {
      "text/plain": [
       "is_promoted\n",
       "0    168.791268\n",
       "1    217.448116\n",
       "Name: avg_training_score, dtype: float64"
      ]
     },
     "execution_count": 78,
     "metadata": {},
     "output_type": "execute_result"
    }
   ],
   "source": [
    "hrtrain.avg_training_score.groupby(hrtrain.is_promoted).var()"
   ]
  },
  {
   "cell_type": "code",
   "execution_count": 79,
   "metadata": {},
   "outputs": [],
   "source": [
    "promotedyes=hrtrain[hrtrain.is_promoted==1]\n",
    "promotedno=hrtrain[hrtrain.is_promoted==0]"
   ]
  },
  {
   "cell_type": "code",
   "execution_count": 80,
   "metadata": {},
   "outputs": [],
   "source": [
    "# Null - No Significant difference in Average avg_training_score of\n",
    "# is_promoted(0/1) equal.\n",
    "# Alt - Significant difference in Average avg_training_score of\n",
    "# is_promoted(0/1) equal."
   ]
  },
  {
   "cell_type": "code",
   "execution_count": 81,
   "metadata": {},
   "outputs": [],
   "source": [
    "from scipy.stats import ttest_ind"
   ]
  },
  {
   "cell_type": "code",
   "execution_count": 82,
   "metadata": {},
   "outputs": [
    {
     "data": {
      "text/plain": [
       "Ttest_indResult(statistic=38.82675007357188, pvalue=7.662329172468838e-291)"
      ]
     },
     "execution_count": 82,
     "metadata": {},
     "output_type": "execute_result"
    }
   ],
   "source": [
    "ttest_ind(promotedyes.avg_training_score,\n",
    "          promotedno.avg_training_score,equal_var=False)\n",
    "# Since pvalue=7.662329172468838e-291 is less than 0.05,Reject\n",
    "# Null Hypothesis"
   ]
  },
  {
   "cell_type": "code",
   "execution_count": 83,
   "metadata": {},
   "outputs": [
    {
     "data": {
      "text/plain": [
       "gender\n",
       "f    63.889897\n",
       "m    63.173550\n",
       "Name: avg_training_score, dtype: float64"
      ]
     },
     "execution_count": 83,
     "metadata": {},
     "output_type": "execute_result"
    }
   ],
   "source": [
    "# Test Null Average avg_training_score of Female & Male Equal\n",
    "# groupby(), Null & Alt, Split Dataframe, Conduct test & Interpret\n",
    "hrtrain.avg_training_score.groupby(hrtrain.gender).mean()"
   ]
  },
  {
   "cell_type": "code",
   "execution_count": 84,
   "metadata": {},
   "outputs": [],
   "source": [
    "male=hrtrain[hrtrain.gender=='m']\n",
    "female=hrtrain[hrtrain.gender=='f']"
   ]
  },
  {
   "cell_type": "code",
   "execution_count": 85,
   "metadata": {},
   "outputs": [
    {
     "data": {
      "text/plain": [
       "Ttest_indResult(statistic=-6.122262326710493, pvalue=9.321257169457923e-10)"
      ]
     },
     "execution_count": 85,
     "metadata": {},
     "output_type": "execute_result"
    }
   ],
   "source": [
    "ttest_ind(male.avg_training_score,female.avg_training_score,\n",
    "         equal_var=False)"
   ]
  },
  {
   "cell_type": "code",
   "execution_count": 86,
   "metadata": {},
   "outputs": [],
   "source": [
    "# ttest=t statistic=(Mean1-Mean2)/sqrt((var1/n1)+(var2/n2))"
   ]
  },
  {
   "cell_type": "code",
   "execution_count": 87,
   "metadata": {},
   "outputs": [],
   "source": [
    "# Test Null avg_training_score of different education levels equal\n",
    "# groupby(), Null & Alt, Split Dataframe, Conduct test & Interpret"
   ]
  },
  {
   "cell_type": "code",
   "execution_count": 88,
   "metadata": {},
   "outputs": [
    {
     "data": {
      "text/plain": [
       "education\n",
       "Bachelor's          63.097446\n",
       "Below Secondary     64.925466\n",
       "Master's & above    64.061240\n",
       "Name: avg_training_score, dtype: float64"
      ]
     },
     "execution_count": 88,
     "metadata": {},
     "output_type": "execute_result"
    }
   ],
   "source": [
    "hrtrain.avg_training_score.groupby(hrtrain.education).mean()"
   ]
  },
  {
   "cell_type": "code",
   "execution_count": 89,
   "metadata": {},
   "outputs": [],
   "source": [
    "ug=hrtrain[hrtrain.education==\"Bachelor's\"]\n",
    "pg=hrtrain[hrtrain.education==\"Master's & above\"]\n",
    "bs=hrtrain[hrtrain.education==\"Below Secondary\"]"
   ]
  },
  {
   "cell_type": "code",
   "execution_count": 90,
   "metadata": {},
   "outputs": [],
   "source": [
    "from scipy.stats import f_oneway"
   ]
  },
  {
   "cell_type": "code",
   "execution_count": 91,
   "metadata": {},
   "outputs": [
    {
     "data": {
      "text/plain": [
       "F_onewayResult(statistic=33.5035375621275, pvalue=2.873996658407989e-15)"
      ]
     },
     "execution_count": 91,
     "metadata": {},
     "output_type": "execute_result"
    }
   ],
   "source": [
    "f_oneway(ug.avg_training_score,pg.avg_training_score,\n",
    "        bs.avg_training_score)"
   ]
  },
  {
   "cell_type": "code",
   "execution_count": 92,
   "metadata": {},
   "outputs": [],
   "source": [
    "# Test Null No Association between gender & is_promoted?\n",
    "# Both Categorical Variables\n",
    "# Cross tabulation is input"
   ]
  },
  {
   "cell_type": "code",
   "execution_count": 93,
   "metadata": {},
   "outputs": [
    {
     "data": {
      "text/html": [
       "<div>\n",
       "<style scoped>\n",
       "    .dataframe tbody tr th:only-of-type {\n",
       "        vertical-align: middle;\n",
       "    }\n",
       "\n",
       "    .dataframe tbody tr th {\n",
       "        vertical-align: top;\n",
       "    }\n",
       "\n",
       "    .dataframe thead th {\n",
       "        text-align: right;\n",
       "    }\n",
       "</style>\n",
       "<table border=\"1\" class=\"dataframe\">\n",
       "  <thead>\n",
       "    <tr style=\"text-align: right;\">\n",
       "      <th>gender</th>\n",
       "      <th>f</th>\n",
       "      <th>m</th>\n",
       "    </tr>\n",
       "    <tr>\n",
       "      <th>is_promoted</th>\n",
       "      <th></th>\n",
       "      <th></th>\n",
       "    </tr>\n",
       "  </thead>\n",
       "  <tbody>\n",
       "    <tr>\n",
       "      <th>0</th>\n",
       "      <td>14845</td>\n",
       "      <td>35295</td>\n",
       "    </tr>\n",
       "    <tr>\n",
       "      <th>1</th>\n",
       "      <td>1467</td>\n",
       "      <td>3201</td>\n",
       "    </tr>\n",
       "  </tbody>\n",
       "</table>\n",
       "</div>"
      ],
      "text/plain": [
       "gender           f      m\n",
       "is_promoted              \n",
       "0            14845  35295\n",
       "1             1467   3201"
      ]
     },
     "execution_count": 93,
     "metadata": {},
     "output_type": "execute_result"
    }
   ],
   "source": [
    "pd.crosstab(hrtrain.is_promoted,hrtrain.gender)"
   ]
  },
  {
   "cell_type": "code",
   "execution_count": 94,
   "metadata": {},
   "outputs": [],
   "source": [
    "from scipy.stats import chi2_contingency"
   ]
  },
  {
   "cell_type": "code",
   "execution_count": 95,
   "metadata": {},
   "outputs": [
    {
     "data": {
      "text/plain": [
       "(6.677254566546107,\n",
       " 0.009765091521176657,\n",
       " 1,\n",
       " array([[14922.70617428, 35217.29382572],\n",
       "        [ 1389.29382572,  3278.70617428]]))"
      ]
     },
     "execution_count": 95,
     "metadata": {},
     "output_type": "execute_result"
    }
   ],
   "source": [
    "chi2_contingency(pd.crosstab(hrtrain.is_promoted,\n",
    "                            hrtrain.gender))\n",
    "# Since p-value=0.00976509 is less than 0.05, Reject null"
   ]
  },
  {
   "cell_type": "code",
   "execution_count": 96,
   "metadata": {},
   "outputs": [],
   "source": [
    "# MACHINE LEARNING - SUPERVISED LEARNING - CLASSIFICATION MODELS\n",
    "# IF DEPENDENT VARIABLE(y) IS NON NUMERIC AND CATEGORICAL AND\n",
    "# BINARY(YES/NO), THEN BINARY LOGISTIC REGRESSION IS USED.\n",
    "# IF THERE ARE MORE THAN 2 LEVELS THEN MULTINOMIAL LOGISTIC\n",
    "# REGRESSION IS USED.\n",
    "# BINARY LOGISTIC REGRESSION -\n",
    "#        EXP^(B0+B1X1+B2X2+B3X3+B4X4+..BnXn)\n",
    "# P = ------------------------------------------------\n",
    "#       1 + EXP^(B0+B1X1+B2X2+B3X3+B4X4+..BnXn)\n",
    "# p - Probability lies between 0 & 1\n",
    "# EXP - Exponential - 2.718\n",
    "# B0 - Intercept or Constant\n",
    "# B1,B2,B3,B4,..Bn - Coefficients\n",
    "# X1,X2,X3,X4,...Xn - Independent variables\n",
    "# Equation predicts predicted probability\n",
    "# Classification Rule for all Classification Models\n",
    "# probability greater than equal to 0.50 ---- 1 (yes)\n",
    "# probability less than 0.50 ------ 0  (no)\n",
    "\n",
    "# Assumptions\n",
    "# Dependent Variable(y) must be Binary.(yes/no)\n",
    "# Independent Variables can be both numerical and categorical.\n",
    "# No Multicollinearity(strong correlation >0.95)\n",
    "# Exogeneity \n",
    "# Sample Size is minimum 50 observations per variable\n",
    "\n",
    "# Interpreatation of Output\n",
    "# Accuracy calculated from Confusion Matrix\n",
    "# intercept + Coefficients\n",
    "\n",
    "# Confusion Matrix is a 2 X 2 matrix of Actual Class & Predicted\n",
    "# class. Cross Tabulation of y and predicted y\n",
    "# Actual Class is positive & Predicted class is Positive  -\n",
    "# True Positive (TP)\n",
    "# Actual Class is Positive but Predicted class is Negative -\n",
    "# False Negative (Type II Error) (FN)\n",
    "# Actual Class is Negative but Predicted class is Positive -\n",
    "# False Positive (Type I Error) (FP)\n",
    "# Actual Class is Negative & Predicted Class is Negative-\n",
    "# True Negative (TN)\n",
    "\n",
    "# Primary metric for all Classification Models is\n",
    "#                      True positive + True negative\n",
    "# Accuracy = ----------------------------------------------------\n",
    "#            True positive+FalseNegative+FalsePositive+TrueNegative\n",
    "# Accuracy must be between 0.70 - 0.90 \n",
    "\n",
    "#                               True Positive\n",
    "# Sensitivity or Recall = ------------------------------\n",
    "#                          True Positive + False Negative\n",
    "# Sensitivity must be higher closer to 1\n",
    "# Sensitivity is also called as True Positive Rate (TPR)\n",
    "\n",
    "#                 True Negative\n",
    "# Specificty = ------------------------------\n",
    "#                True Negative + False Positive\n",
    "# Specificity is als called as True Negative Rate\n",
    "# Specificity must be higher closer to 1.\n",
    "\n",
    "#                  True positive\n",
    "# Precision = -----------------------------\n",
    "#                True Positive + False Positive\n",
    "# Precision must be higher closer to 1\n",
    "\n",
    "#                Precision X Recall\n",
    "# F1 Score = 2 X -------------------\n",
    "#                Precision + Recall\n"
   ]
  },
  {
   "cell_type": "code",
   "execution_count": 97,
   "metadata": {},
   "outputs": [
    {
     "data": {
      "text/plain": [
       "Index(['employee_id', 'department', 'region', 'education', 'gender',\n",
       "       'recruitment_channel', 'no_of_trainings', 'age', 'previous_year_rating',\n",
       "       'length_of_service', 'KPIs_met >80%', 'awards_won?',\n",
       "       'avg_training_score', 'is_promoted'],\n",
       "      dtype='object')"
      ]
     },
     "execution_count": 97,
     "metadata": {},
     "output_type": "execute_result"
    }
   ],
   "source": [
    "hrtrain.columns"
   ]
  },
  {
   "cell_type": "code",
   "execution_count": 98,
   "metadata": {},
   "outputs": [],
   "source": [
    "objectcolumns=hrtrain[['department', 'region', 'education', 'gender',\n",
    "       'recruitment_channel','previous_year_rating',\n",
    "                      'KPIs_met >80%', 'awards_won?','is_promoted']]"
   ]
  },
  {
   "cell_type": "code",
   "execution_count": 99,
   "metadata": {},
   "outputs": [],
   "source": [
    "numericcolumns=hrtrain[['no_of_trainings', 'age',\n",
    "                        'avg_training_score']]"
   ]
  },
  {
   "cell_type": "code",
   "execution_count": 100,
   "metadata": {},
   "outputs": [],
   "source": [
    "from sklearn.preprocessing import LabelEncoder"
   ]
  },
  {
   "cell_type": "code",
   "execution_count": 101,
   "metadata": {},
   "outputs": [],
   "source": [
    "le=LabelEncoder()"
   ]
  },
  {
   "cell_type": "code",
   "execution_count": 102,
   "metadata": {},
   "outputs": [],
   "source": [
    "objectcolumnsdummy=objectcolumns.apply(le.fit_transform)"
   ]
  },
  {
   "cell_type": "code",
   "execution_count": 103,
   "metadata": {},
   "outputs": [],
   "source": [
    "hrtraindf=pd.concat([numericcolumns,objectcolumnsdummy],axis=1)"
   ]
  },
  {
   "cell_type": "code",
   "execution_count": 104,
   "metadata": {},
   "outputs": [],
   "source": [
    "y=hrtraindf.is_promoted\n",
    "X=hrtraindf.drop('is_promoted',axis=1)"
   ]
  },
  {
   "cell_type": "code",
   "execution_count": 105,
   "metadata": {},
   "outputs": [],
   "source": [
    "from sklearn.linear_model import LogisticRegression"
   ]
  },
  {
   "cell_type": "code",
   "execution_count": 106,
   "metadata": {},
   "outputs": [],
   "source": [
    "logreg=LogisticRegression(max_iter=2000)\n",
    "# Convergence Warning means Not All Coefficients are Calculated, thwn we increase iteration in inside paranthesis or function"
   ]
  },
  {
   "cell_type": "code",
   "execution_count": 107,
   "metadata": {},
   "outputs": [],
   "source": [
    "logregmodel=logreg.fit(X,y)"
   ]
  },
  {
   "cell_type": "code",
   "execution_count": 108,
   "metadata": {},
   "outputs": [
    {
     "data": {
      "text/plain": [
       "0.9172201138519924"
      ]
     },
     "execution_count": 108,
     "metadata": {},
     "output_type": "execute_result"
    }
   ],
   "source": [
    "logregmodel.score(X,y) # Accuracy from Confusion Matrix"
   ]
  },
  {
   "cell_type": "code",
   "execution_count": 109,
   "metadata": {},
   "outputs": [],
   "source": [
    "logitpredict=logregmodel.predict(X)"
   ]
  },
  {
   "cell_type": "code",
   "execution_count": 110,
   "metadata": {},
   "outputs": [
    {
     "data": {
      "text/html": [
       "<div>\n",
       "<style scoped>\n",
       "    .dataframe tbody tr th:only-of-type {\n",
       "        vertical-align: middle;\n",
       "    }\n",
       "\n",
       "    .dataframe tbody tr th {\n",
       "        vertical-align: top;\n",
       "    }\n",
       "\n",
       "    .dataframe thead th {\n",
       "        text-align: right;\n",
       "    }\n",
       "</style>\n",
       "<table border=\"1\" class=\"dataframe\">\n",
       "  <thead>\n",
       "    <tr style=\"text-align: right;\">\n",
       "      <th>col_0</th>\n",
       "      <th>0</th>\n",
       "      <th>1</th>\n",
       "    </tr>\n",
       "    <tr>\n",
       "      <th>is_promoted</th>\n",
       "      <th></th>\n",
       "      <th></th>\n",
       "    </tr>\n",
       "  </thead>\n",
       "  <tbody>\n",
       "    <tr>\n",
       "      <th>0</th>\n",
       "      <td>49942</td>\n",
       "      <td>198</td>\n",
       "    </tr>\n",
       "    <tr>\n",
       "      <th>1</th>\n",
       "      <td>4339</td>\n",
       "      <td>329</td>\n",
       "    </tr>\n",
       "  </tbody>\n",
       "</table>\n",
       "</div>"
      ],
      "text/plain": [
       "col_0            0    1\n",
       "is_promoted            \n",
       "0            49942  198\n",
       "1             4339  329"
      ]
     },
     "execution_count": 110,
     "metadata": {},
     "output_type": "execute_result"
    }
   ],
   "source": [
    "pd.crosstab(y,logitpredict)"
   ]
  },
  {
   "cell_type": "code",
   "execution_count": 111,
   "metadata": {},
   "outputs": [
    {
     "data": {
      "text/plain": [
       "0.9172018683403883"
      ]
     },
     "execution_count": 111,
     "metadata": {},
     "output_type": "execute_result"
    }
   ],
   "source": [
    "(49942+328)/(49942+198+4340+328) # Accuracy = 91.72%"
   ]
  },
  {
   "cell_type": "code",
   "execution_count": 112,
   "metadata": {},
   "outputs": [
    {
     "data": {
      "text/plain": [
       "array([-6.95157689])"
      ]
     },
     "execution_count": 112,
     "metadata": {},
     "output_type": "execute_result"
    }
   ],
   "source": [
    "logregmodel.intercept_"
   ]
  },
  {
   "cell_type": "code",
   "execution_count": 113,
   "metadata": {},
   "outputs": [
    {
     "data": {
      "text/html": [
       "<div>\n",
       "<style scoped>\n",
       "    .dataframe tbody tr th:only-of-type {\n",
       "        vertical-align: middle;\n",
       "    }\n",
       "\n",
       "    .dataframe tbody tr th {\n",
       "        vertical-align: top;\n",
       "    }\n",
       "\n",
       "    .dataframe thead th {\n",
       "        text-align: right;\n",
       "    }\n",
       "</style>\n",
       "<table border=\"1\" class=\"dataframe\">\n",
       "  <thead>\n",
       "    <tr style=\"text-align: right;\">\n",
       "      <th></th>\n",
       "      <th>0</th>\n",
       "    </tr>\n",
       "  </thead>\n",
       "  <tbody>\n",
       "    <tr>\n",
       "      <th>no_of_trainings</th>\n",
       "      <td>-0.188458</td>\n",
       "    </tr>\n",
       "    <tr>\n",
       "      <th>age</th>\n",
       "      <td>-0.012155</td>\n",
       "    </tr>\n",
       "    <tr>\n",
       "      <th>avg_training_score</th>\n",
       "      <td>0.046084</td>\n",
       "    </tr>\n",
       "    <tr>\n",
       "      <th>department</th>\n",
       "      <td>0.082520</td>\n",
       "    </tr>\n",
       "    <tr>\n",
       "      <th>region</th>\n",
       "      <td>0.002387</td>\n",
       "    </tr>\n",
       "    <tr>\n",
       "      <th>education</th>\n",
       "      <td>0.103782</td>\n",
       "    </tr>\n",
       "    <tr>\n",
       "      <th>gender</th>\n",
       "      <td>0.008738</td>\n",
       "    </tr>\n",
       "    <tr>\n",
       "      <th>recruitment_channel</th>\n",
       "      <td>0.009158</td>\n",
       "    </tr>\n",
       "    <tr>\n",
       "      <th>previous_year_rating</th>\n",
       "      <td>0.339905</td>\n",
       "    </tr>\n",
       "    <tr>\n",
       "      <th>KPIs_met &gt;80%</th>\n",
       "      <td>1.268575</td>\n",
       "    </tr>\n",
       "    <tr>\n",
       "      <th>awards_won?</th>\n",
       "      <td>1.881745</td>\n",
       "    </tr>\n",
       "  </tbody>\n",
       "</table>\n",
       "</div>"
      ],
      "text/plain": [
       "                             0\n",
       "no_of_trainings      -0.188458\n",
       "age                  -0.012155\n",
       "avg_training_score    0.046084\n",
       "department            0.082520\n",
       "region                0.002387\n",
       "education             0.103782\n",
       "gender                0.008738\n",
       "recruitment_channel   0.009158\n",
       "previous_year_rating  0.339905\n",
       "KPIs_met >80%         1.268575\n",
       "awards_won?           1.881745"
      ]
     },
     "execution_count": 113,
     "metadata": {},
     "output_type": "execute_result"
    }
   ],
   "source": [
    "pd.DataFrame(logregmodel.coef_,columns=X.columns).transpose()"
   ]
  },
  {
   "cell_type": "code",
   "execution_count": 114,
   "metadata": {},
   "outputs": [],
   "source": [
    "from sklearn.metrics import classification_report"
   ]
  },
  {
   "cell_type": "code",
   "execution_count": 115,
   "metadata": {},
   "outputs": [
    {
     "name": "stdout",
     "output_type": "stream",
     "text": [
      "              precision    recall  f1-score   support\n",
      "\n",
      "           0       0.92      1.00      0.96     50140\n",
      "           1       0.62      0.07      0.13      4668\n",
      "\n",
      "    accuracy                           0.92     54808\n",
      "   macro avg       0.77      0.53      0.54     54808\n",
      "weighted avg       0.89      0.92      0.89     54808\n",
      "\n"
     ]
    }
   ],
   "source": [
    "print(classification_report(y,logitpredict))"
   ]
  },
  {
   "cell_type": "code",
   "execution_count": 116,
   "metadata": {},
   "outputs": [],
   "source": [
    "from sklearn.metrics import plot_roc_curve"
   ]
  },
  {
   "cell_type": "code",
   "execution_count": 117,
   "metadata": {},
   "outputs": [
    {
     "data": {
      "text/plain": [
       "<sklearn.metrics._plot.roc_curve.RocCurveDisplay at 0x2ae68fcec10>"
      ]
     },
     "execution_count": 117,
     "metadata": {},
     "output_type": "execute_result"
    },
    {
     "data": {
      "image/png": "[encoded data removed]",
      "text/plain": [
       "<Figure size 432x288 with 1 Axes>"
      ]
     },
     "metadata": {
      "needs_background": "light"
     },
     "output_type": "display_data"
    }
   ],
   "source": [
    "plot_roc_curve(logreg,X,y)\n",
    "# Area Under ROC Curve (AUC) = 0.81 or 81%"
   ]
  },
  {
   "cell_type": "code",
   "execution_count": null,
   "metadata": {},
   "outputs": [],
   "source": []
  }
 ],
 "metadata": {
  "kernelspec": {
   "display_name": "Python 3",
   "language": "python",
   "name": "python3"
  },
  "language_info": {
   "codemirror_mode": {
    "name": "ipython",
    "version": 3
   },
   "file_extension": ".py",
   "mimetype": "text/x-python",
   "name": "python",
   "nbconvert_exporter": "python",
   "pygments_lexer": "ipython3",
   "version": "3.8.5"
  }
 },
 "nbformat": 4,
 "nbformat_minor": 5
}
